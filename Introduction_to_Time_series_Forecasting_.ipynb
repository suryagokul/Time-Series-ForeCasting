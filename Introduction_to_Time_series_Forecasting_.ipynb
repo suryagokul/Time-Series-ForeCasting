{
  "nbformat": 4,
  "nbformat_minor": 0,
  "metadata": {
    "colab": {
      "name": "Introduction to Time series Forecasting .ipynb",
      "provenance": [],
      "collapsed_sections": [
        "s6Ht32AniyJe",
        "bzDt4jCDiqte",
        "F-bP2mG4ihRG",
        "jNjHYP-mjxW9"
      ],
      "authorship_tag": "ABX9TyOyCNqMY0Eo1jwSBTIzJCmT",
      "include_colab_link": true
    },
    "kernelspec": {
      "name": "python3",
      "display_name": "Python 3"
    },
    "accelerator": "GPU"
  },
  "cells": [
    {
      "cell_type": "markdown",
      "metadata": {
        "id": "view-in-github",
        "colab_type": "text"
      },
      "source": [
        "<a href=\"https://colab.research.google.com/github/suryagokul/Time-Series-ForeCasting/blob/main/Introduction_to_Time_series_Forecasting_.ipynb\" target=\"_parent\"><img src=\"https://colab.research.google.com/assets/colab-badge.svg\" alt=\"Open In Colab\"/></a>"
      ]
    },
    {
      "cell_type": "markdown",
      "metadata": {
        "id": "s6Ht32AniyJe"
      },
      "source": [
        "# Time Series Forecasting\n",
        "\n",
        ">> [**Auto Regressive Model**](#scrollTo=bzDt4jCDiqte)\n",
        "\n",
        ">> [**Arima Model**](#scrollTo=F-bP2mG4ihRG)"
      ]
    },
    {
      "cell_type": "code",
      "metadata": {
        "id": "8fPfUybUMA8J"
      },
      "source": [
        "import pandas as pd"
      ],
      "execution_count": 7,
      "outputs": []
    },
    {
      "cell_type": "code",
      "metadata": {
        "colab": {
          "base_uri": "https://localhost:8080/",
          "height": 204
        },
        "id": "vt7l5mLCMI_9",
        "outputId": "db8bf234-6295-402a-9617-27cdb3140a99"
      },
      "source": [
        "sales = pd.read_csv(\"sales-cars.csv\")\n",
        "\n",
        "sales[:5]"
      ],
      "execution_count": 19,
      "outputs": [
        {
          "output_type": "execute_result",
          "data": {
            "text/html": [
              "<div>\n",
              "<style scoped>\n",
              "    .dataframe tbody tr th:only-of-type {\n",
              "        vertical-align: middle;\n",
              "    }\n",
              "\n",
              "    .dataframe tbody tr th {\n",
              "        vertical-align: top;\n",
              "    }\n",
              "\n",
              "    .dataframe thead th {\n",
              "        text-align: right;\n",
              "    }\n",
              "</style>\n",
              "<table border=\"1\" class=\"dataframe\">\n",
              "  <thead>\n",
              "    <tr style=\"text-align: right;\">\n",
              "      <th></th>\n",
              "      <th>Month</th>\n",
              "      <th>Sales</th>\n",
              "    </tr>\n",
              "  </thead>\n",
              "  <tbody>\n",
              "    <tr>\n",
              "      <th>0</th>\n",
              "      <td>2016-01</td>\n",
              "      <td>266</td>\n",
              "    </tr>\n",
              "    <tr>\n",
              "      <th>1</th>\n",
              "      <td>2016-02</td>\n",
              "      <td>146</td>\n",
              "    </tr>\n",
              "    <tr>\n",
              "      <th>2</th>\n",
              "      <td>2016-03</td>\n",
              "      <td>183</td>\n",
              "    </tr>\n",
              "    <tr>\n",
              "      <th>3</th>\n",
              "      <td>2016-04</td>\n",
              "      <td>119</td>\n",
              "    </tr>\n",
              "    <tr>\n",
              "      <th>4</th>\n",
              "      <td>2016-05</td>\n",
              "      <td>180</td>\n",
              "    </tr>\n",
              "  </tbody>\n",
              "</table>\n",
              "</div>"
            ],
            "text/plain": [
              "     Month  Sales\n",
              "0  2016-01    266\n",
              "1  2016-02    146\n",
              "2  2016-03    183\n",
              "3  2016-04    119\n",
              "4  2016-05    180"
            ]
          },
          "metadata": {
            "tags": []
          },
          "execution_count": 19
        }
      ]
    },
    {
      "cell_type": "code",
      "metadata": {
        "colab": {
          "base_uri": "https://localhost:8080/",
          "height": 35
        },
        "id": "tBcuT1NBMSIC",
        "outputId": "6def3eb2-01e0-4603-b815-a9e98d48f79f"
      },
      "source": [
        "sales.Month[0]                     "
      ],
      "execution_count": 20,
      "outputs": [
        {
          "output_type": "execute_result",
          "data": {
            "application/vnd.google.colaboratory.intrinsic+json": {
              "type": "string"
            },
            "text/plain": [
              "'2016-01'"
            ]
          },
          "metadata": {
            "tags": []
          },
          "execution_count": 20
        }
      ]
    },
    {
      "cell_type": "code",
      "metadata": {
        "colab": {
          "base_uri": "https://localhost:8080/"
        },
        "id": "b2jbM7gzMXE4",
        "outputId": "5e8f73ce-5a33-4bbc-d815-b48c16d13988"
      },
      "source": [
        "type(sales.Month[0])        "
      ],
      "execution_count": 21,
      "outputs": [
        {
          "output_type": "execute_result",
          "data": {
            "text/plain": [
              "str"
            ]
          },
          "metadata": {
            "tags": []
          },
          "execution_count": 21
        }
      ]
    },
    {
      "cell_type": "markdown",
      "metadata": {
        "id": "3G5ohmFeMfnA"
      },
      "source": [
        "We need to convert str to datetime to do time series forecasting or analysis..."
      ]
    },
    {
      "cell_type": "code",
      "metadata": {
        "id": "yEseSZjfMcTF"
      },
      "source": [
        "import datetime"
      ],
      "execution_count": 22,
      "outputs": []
    },
    {
      "cell_type": "code",
      "metadata": {
        "id": "60VwIflYMpm5"
      },
      "source": [
        "sales.Month = sales.Month.apply(lambda x : datetime.datetime.strptime(x,'%Y-%m'))"
      ],
      "execution_count": 24,
      "outputs": []
    },
    {
      "cell_type": "code",
      "metadata": {
        "colab": {
          "base_uri": "https://localhost:8080/",
          "height": 204
        },
        "id": "fjT9Y0dsNS1s",
        "outputId": "fbba7a49-8316-4ae1-e621-372bd93c88c8"
      },
      "source": [
        "sales[:5]                        #  There is no date in actual dataset format but it places 01 at all places..."
      ],
      "execution_count": 28,
      "outputs": [
        {
          "output_type": "execute_result",
          "data": {
            "text/html": [
              "<div>\n",
              "<style scoped>\n",
              "    .dataframe tbody tr th:only-of-type {\n",
              "        vertical-align: middle;\n",
              "    }\n",
              "\n",
              "    .dataframe tbody tr th {\n",
              "        vertical-align: top;\n",
              "    }\n",
              "\n",
              "    .dataframe thead th {\n",
              "        text-align: right;\n",
              "    }\n",
              "</style>\n",
              "<table border=\"1\" class=\"dataframe\">\n",
              "  <thead>\n",
              "    <tr style=\"text-align: right;\">\n",
              "      <th></th>\n",
              "      <th>Month</th>\n",
              "      <th>Sales</th>\n",
              "    </tr>\n",
              "  </thead>\n",
              "  <tbody>\n",
              "    <tr>\n",
              "      <th>0</th>\n",
              "      <td>2016-01-01</td>\n",
              "      <td>266</td>\n",
              "    </tr>\n",
              "    <tr>\n",
              "      <th>1</th>\n",
              "      <td>2016-02-01</td>\n",
              "      <td>146</td>\n",
              "    </tr>\n",
              "    <tr>\n",
              "      <th>2</th>\n",
              "      <td>2016-03-01</td>\n",
              "      <td>183</td>\n",
              "    </tr>\n",
              "    <tr>\n",
              "      <th>3</th>\n",
              "      <td>2016-04-01</td>\n",
              "      <td>119</td>\n",
              "    </tr>\n",
              "    <tr>\n",
              "      <th>4</th>\n",
              "      <td>2016-05-01</td>\n",
              "      <td>180</td>\n",
              "    </tr>\n",
              "  </tbody>\n",
              "</table>\n",
              "</div>"
            ],
            "text/plain": [
              "       Month  Sales\n",
              "0 2016-01-01    266\n",
              "1 2016-02-01    146\n",
              "2 2016-03-01    183\n",
              "3 2016-04-01    119\n",
              "4 2016-05-01    180"
            ]
          },
          "metadata": {
            "tags": []
          },
          "execution_count": 28
        }
      ]
    },
    {
      "cell_type": "code",
      "metadata": {
        "colab": {
          "base_uri": "https://localhost:8080/"
        },
        "id": "oxrtYuFtNXi-",
        "outputId": "85e04edb-4c84-4720-f39b-0221d76dad7a"
      },
      "source": [
        "type(sales.Month[0])"
      ],
      "execution_count": 26,
      "outputs": [
        {
          "output_type": "execute_result",
          "data": {
            "text/plain": [
              "pandas._libs.tslibs.timestamps.Timestamp"
            ]
          },
          "metadata": {
            "tags": []
          },
          "execution_count": 26
        }
      ]
    },
    {
      "cell_type": "code",
      "metadata": {
        "id": "ookLXf85NbZk"
      },
      "source": [
        "sales.index = sales.Month                               # Placing Month Column as index..."
      ],
      "execution_count": 29,
      "outputs": []
    },
    {
      "cell_type": "code",
      "metadata": {
        "id": "yQ4us8DSOHvI"
      },
      "source": [
        "sales.drop('Month',axis=1,inplace=True)"
      ],
      "execution_count": 32,
      "outputs": []
    },
    {
      "cell_type": "code",
      "metadata": {
        "colab": {
          "base_uri": "https://localhost:8080/",
          "height": 266
        },
        "id": "m8tcMEFaOIgC",
        "outputId": "9a3b9de1-7a5b-4e32-f269-275e74a02cd6"
      },
      "source": [
        "sales[:6]"
      ],
      "execution_count": 33,
      "outputs": [
        {
          "output_type": "execute_result",
          "data": {
            "text/html": [
              "<div>\n",
              "<style scoped>\n",
              "    .dataframe tbody tr th:only-of-type {\n",
              "        vertical-align: middle;\n",
              "    }\n",
              "\n",
              "    .dataframe tbody tr th {\n",
              "        vertical-align: top;\n",
              "    }\n",
              "\n",
              "    .dataframe thead th {\n",
              "        text-align: right;\n",
              "    }\n",
              "</style>\n",
              "<table border=\"1\" class=\"dataframe\">\n",
              "  <thead>\n",
              "    <tr style=\"text-align: right;\">\n",
              "      <th></th>\n",
              "      <th>Sales</th>\n",
              "    </tr>\n",
              "    <tr>\n",
              "      <th>Month</th>\n",
              "      <th></th>\n",
              "    </tr>\n",
              "  </thead>\n",
              "  <tbody>\n",
              "    <tr>\n",
              "      <th>2016-01-01</th>\n",
              "      <td>266</td>\n",
              "    </tr>\n",
              "    <tr>\n",
              "      <th>2016-02-01</th>\n",
              "      <td>146</td>\n",
              "    </tr>\n",
              "    <tr>\n",
              "      <th>2016-03-01</th>\n",
              "      <td>183</td>\n",
              "    </tr>\n",
              "    <tr>\n",
              "      <th>2016-04-01</th>\n",
              "      <td>119</td>\n",
              "    </tr>\n",
              "    <tr>\n",
              "      <th>2016-05-01</th>\n",
              "      <td>180</td>\n",
              "    </tr>\n",
              "    <tr>\n",
              "      <th>2016-06-01</th>\n",
              "      <td>169</td>\n",
              "    </tr>\n",
              "  </tbody>\n",
              "</table>\n",
              "</div>"
            ],
            "text/plain": [
              "            Sales\n",
              "Month            \n",
              "2016-01-01    266\n",
              "2016-02-01    146\n",
              "2016-03-01    183\n",
              "2016-04-01    119\n",
              "2016-05-01    180\n",
              "2016-06-01    169"
            ]
          },
          "metadata": {
            "tags": []
          },
          "execution_count": 33
        }
      ]
    },
    {
      "cell_type": "code",
      "metadata": {
        "id": "P2o0bR61OP0A"
      },
      "source": [
        "import matplotlib.pyplot as plt"
      ],
      "execution_count": 34,
      "outputs": []
    },
    {
      "cell_type": "code",
      "metadata": {
        "colab": {
          "base_uri": "https://localhost:8080/",
          "height": 282
        },
        "id": "cdP0QMt_ObVi",
        "outputId": "1f7f41d2-5acc-41dc-8895-8956b461fd9b"
      },
      "source": [
        "plt.plot(sales)"
      ],
      "execution_count": 35,
      "outputs": [
        {
          "output_type": "execute_result",
          "data": {
            "text/plain": [
              "[<matplotlib.lines.Line2D at 0x7f0bc0086a90>]"
            ]
          },
          "metadata": {
            "tags": []
          },
          "execution_count": 35
        },
        {
          "output_type": "display_data",
          "data": {
            "image/png": "[encoded data removed]",
            "text/plain": [
              "<Figure size 432x288 with 1 Axes>"
            ]
          },
          "metadata": {
            "tags": [],
            "needs_background": "light"
          }
        }
      ]
    },
    {
      "cell_type": "markdown",
      "metadata": {
        "id": "1qMmPFm_Om9G"
      },
      "source": [
        "By looking distribution,We can say that the data is not **\"Stationary\"**.\n",
        "\n",
        "> Stationary is nothing but over different period of time mean,variance and co-variance should be same...\n",
        "\n",
        "\n",
        "> But in this distribution,the data is peak at some place and low at another place.It may be because of  randomness of the data."
      ]
    },
    {
      "cell_type": "markdown",
      "metadata": {
        "id": "Ge1P1ncUS3rh"
      },
      "source": [
        "We can also know whether the data is stationary or not by using **AutoCorrelation plot** as shown below.."
      ]
    },
    {
      "cell_type": "code",
      "metadata": {
        "id": "8_lFDaNYQ6QF"
      },
      "source": [
        "from statsmodels.graphics.tsaplots import plot_acf"
      ],
      "execution_count": 44,
      "outputs": []
    },
    {
      "cell_type": "code",
      "metadata": {
        "colab": {
          "base_uri": "https://localhost:8080/",
          "height": 545
        },
        "id": "_ZaWvGAXRNR9",
        "outputId": "47f18452-3314-479a-bd7b-6210f7c32f4f"
      },
      "source": [
        "plot_acf(sales)"
      ],
      "execution_count": 45,
      "outputs": [
        {
          "output_type": "execute_result",
          "data": {
            "image/png": "[encoded data removed]",
            "text/plain": [
              "<Figure size 432x288 with 1 Axes>"
            ]
          },
          "metadata": {
            "tags": []
          },
          "execution_count": 45
        },
        {
          "output_type": "display_data",
          "data": {
            "image/png": "[encoded data removed]",
            "text/plain": [
              "<Figure size 432x288 with 1 Axes>"
            ]
          },
          "metadata": {
            "tags": [],
            "needs_background": "light"
          }
        }
      ]
    },
    {
      "cell_type": "markdown",
      "metadata": {
        "id": "rECIv7mSTTAg"
      },
      "source": [
        "**`Plot says that the data is not Stationary because lags are slowly destructive but it must be die at a time in very fast manner...`**\n",
        "\n",
        "> `It shows correlation between two series.One is sales and another one is sales data after shifting which is shown below.`\n",
        "\n",
        "\n"
      ]
    },
    {
      "cell_type": "code",
      "metadata": {
        "colab": {
          "base_uri": "https://localhost:8080/"
        },
        "id": "Rci3g9YCTHPf",
        "outputId": "84b752d5-6b34-4b0d-c536-efd6ad424718"
      },
      "source": [
        "print(sales[:4])\n",
        "\n",
        "print()\n",
        "\n",
        "print(\"After One Shift \")\n",
        "print()\n",
        "\n",
        "print(sales.shift(1)[:4])"
      ],
      "execution_count": 64,
      "outputs": [
        {
          "output_type": "stream",
          "text": [
            "            Sales\n",
            "Month            \n",
            "2016-01-01    266\n",
            "2016-02-01    146\n",
            "2016-03-01    183\n",
            "2016-04-01    119\n",
            "\n",
            "After One Shift \n",
            "\n",
            "            Sales\n",
            "Month            \n",
            "2016-01-01    NaN\n",
            "2016-02-01  266.0\n",
            "2016-03-01  146.0\n",
            "2016-04-01  183.0\n"
          ],
          "name": "stdout"
        }
      ]
    },
    {
      "cell_type": "markdown",
      "metadata": {
        "id": "FK8BZfCxVCqP"
      },
      "source": [
        "> `When we compare 266 with 266 it is obviously high correlation as shown in above plot`\n",
        "\n",
        "> `When we compare 146 with 266 it has 70% correlated as shown in above plot i.e second lag...`"
      ]
    },
    {
      "cell_type": "markdown",
      "metadata": {
        "id": "4ddQ0Wg2V9bP"
      },
      "source": [
        "*Converting into Stationary data to use different time series models.\n",
        "\n",
        "Technique:*\n",
        "\n",
        "              \"Integrating\" or \"Differencing\" previous sales with current one."
      ]
    },
    {
      "cell_type": "code",
      "metadata": {
        "colab": {
          "base_uri": "https://localhost:8080/",
          "height": 354
        },
        "id": "SQ2R-66PPeIW",
        "outputId": "9021e361-3d1d-4d0c-e21e-fd0d6848ad9a"
      },
      "source": [
        "sales_diff = sales.diff(periods=1)             # Differencing\n",
        "\n",
        "sales_diff = sales_diff[1:]\n",
        "\n",
        "print(sales[:5])\n",
        "\n",
        "sales_diff[:5]"
      ],
      "execution_count": 50,
      "outputs": [
        {
          "output_type": "stream",
          "text": [
            "            Sales\n",
            "Month            \n",
            "2016-01-01    266\n",
            "2016-02-01    146\n",
            "2016-03-01    183\n",
            "2016-04-01    119\n",
            "2016-05-01    180\n"
          ],
          "name": "stdout"
        },
        {
          "output_type": "execute_result",
          "data": {
            "text/html": [
              "<div>\n",
              "<style scoped>\n",
              "    .dataframe tbody tr th:only-of-type {\n",
              "        vertical-align: middle;\n",
              "    }\n",
              "\n",
              "    .dataframe tbody tr th {\n",
              "        vertical-align: top;\n",
              "    }\n",
              "\n",
              "    .dataframe thead th {\n",
              "        text-align: right;\n",
              "    }\n",
              "</style>\n",
              "<table border=\"1\" class=\"dataframe\">\n",
              "  <thead>\n",
              "    <tr style=\"text-align: right;\">\n",
              "      <th></th>\n",
              "      <th>Sales</th>\n",
              "    </tr>\n",
              "    <tr>\n",
              "      <th>Month</th>\n",
              "      <th></th>\n",
              "    </tr>\n",
              "  </thead>\n",
              "  <tbody>\n",
              "    <tr>\n",
              "      <th>2016-02-01</th>\n",
              "      <td>-120.0</td>\n",
              "    </tr>\n",
              "    <tr>\n",
              "      <th>2016-03-01</th>\n",
              "      <td>37.0</td>\n",
              "    </tr>\n",
              "    <tr>\n",
              "      <th>2016-04-01</th>\n",
              "      <td>-64.0</td>\n",
              "    </tr>\n",
              "    <tr>\n",
              "      <th>2016-05-01</th>\n",
              "      <td>61.0</td>\n",
              "    </tr>\n",
              "    <tr>\n",
              "      <th>2016-06-01</th>\n",
              "      <td>-11.0</td>\n",
              "    </tr>\n",
              "  </tbody>\n",
              "</table>\n",
              "</div>"
            ],
            "text/plain": [
              "            Sales\n",
              "Month            \n",
              "2016-02-01 -120.0\n",
              "2016-03-01   37.0\n",
              "2016-04-01  -64.0\n",
              "2016-05-01   61.0\n",
              "2016-06-01  -11.0"
            ]
          },
          "metadata": {
            "tags": []
          },
          "execution_count": 50
        }
      ]
    },
    {
      "cell_type": "markdown",
      "metadata": {
        "id": "EuFpx9UwQL2b"
      },
      "source": [
        "Differences from sales dataframe ------------------>\n",
        "\n",
        "146 - 266 = -120\n",
        "\n",
        "183 - 146 = 37\n",
        "\n",
        "119 - 183 = -64"
      ]
    },
    {
      "cell_type": "code",
      "metadata": {
        "colab": {
          "base_uri": "https://localhost:8080/",
          "height": 545
        },
        "id": "5_AsuT-URX_T",
        "outputId": "4fd119b8-a4df-40b5-f5be-99642973b9c2"
      },
      "source": [
        "plot_acf(sales_diff)"
      ],
      "execution_count": 52,
      "outputs": [
        {
          "output_type": "execute_result",
          "data": {
            "image/png": "[encoded data removed]",
            "text/plain": [
              "<Figure size 432x288 with 1 Axes>"
            ]
          },
          "metadata": {
            "tags": []
          },
          "execution_count": 52
        },
        {
          "output_type": "display_data",
          "data": {
            "image/png": "[encoded data removed]",
            "text/plain": [
              "<Figure size 432x288 with 1 Axes>"
            ]
          },
          "metadata": {
            "tags": [],
            "needs_background": "light"
          }
        }
      ]
    },
    {
      "cell_type": "markdown",
      "metadata": {
        "id": "mQHhNZrbWNuO"
      },
      "source": [
        "*We can see here that it is ideally decreasing immediately.. So we can say it as a Stationary which is only used for time series.*"
      ]
    },
    {
      "cell_type": "code",
      "metadata": {
        "colab": {
          "base_uri": "https://localhost:8080/",
          "height": 282
        },
        "id": "vHUGCRILWNdi",
        "outputId": "93703842-e1d4-4dd9-dff7-224605c3c634"
      },
      "source": [
        "plt.plot(sales_diff)"
      ],
      "execution_count": 66,
      "outputs": [
        {
          "output_type": "execute_result",
          "data": {
            "text/plain": [
              "[<matplotlib.lines.Line2D at 0x7f0bb57d13c8>]"
            ]
          },
          "metadata": {
            "tags": []
          },
          "execution_count": 66
        },
        {
          "output_type": "display_data",
          "data": {
            "image/png": "[encoded data removed]",
            "text/plain": [
              "<Figure size 432x288 with 1 Axes>"
            ]
          },
          "metadata": {
            "tags": [],
            "needs_background": "light"
          }
        }
      ]
    },
    {
      "cell_type": "code",
      "metadata": {
        "colab": {
          "base_uri": "https://localhost:8080/"
        },
        "id": "m3EC2VCuSVaH",
        "outputId": "984a5f39-1c5e-497f-e28c-618d0d6bab86"
      },
      "source": [
        "X = sales.values\n",
        "\n",
        "X.size"
      ],
      "execution_count": 68,
      "outputs": [
        {
          "output_type": "execute_result",
          "data": {
            "text/plain": [
              "36"
            ]
          },
          "metadata": {
            "tags": []
          },
          "execution_count": 68
        }
      ]
    },
    {
      "cell_type": "code",
      "metadata": {
        "colab": {
          "base_uri": "https://localhost:8080/"
        },
        "id": "qNFbM_RcX6BY",
        "outputId": "69cd3588-5506-4844-ae1d-b518bab8299e"
      },
      "source": [
        "(80/100) * 36        80 % of our data i.e X = 28"
      ],
      "execution_count": 69,
      "outputs": [
        {
          "output_type": "execute_result",
          "data": {
            "text/plain": [
              "28.8"
            ]
          },
          "metadata": {
            "tags": []
          },
          "execution_count": 69
        }
      ]
    },
    {
      "cell_type": "code",
      "metadata": {
        "id": "QJ6nkLHfYGWC"
      },
      "source": [
        "train ,test = X[:28],X[28:36]"
      ],
      "execution_count": 99,
      "outputs": []
    },
    {
      "cell_type": "code",
      "metadata": {
        "colab": {
          "base_uri": "https://localhost:8080/"
        },
        "id": "fwT3INjHYYVl",
        "outputId": "8526d63f-2ee6-44db-aca0-4b73a19a1fff"
      },
      "source": [
        "train.size,test.size"
      ],
      "execution_count": 100,
      "outputs": [
        {
          "output_type": "execute_result",
          "data": {
            "text/plain": [
              "(28, 8)"
            ]
          },
          "metadata": {
            "tags": []
          },
          "execution_count": 100
        }
      ]
    },
    {
      "cell_type": "markdown",
      "metadata": {
        "id": "bzDt4jCDiqte"
      },
      "source": [
        "# Auto Regressive Model"
      ]
    },
    {
      "cell_type": "code",
      "metadata": {
        "id": "nHmI3A9hYaUb"
      },
      "source": [
        "from statsmodels.tsa.ar_model import AR\n",
        "from sklearn.metrics import mean_squared_error"
      ],
      "execution_count": 101,
      "outputs": []
    },
    {
      "cell_type": "code",
      "metadata": {
        "id": "m607fb3dYudL"
      },
      "source": [
        "model_ar = AR(train).fit()"
      ],
      "execution_count": 102,
      "outputs": []
    },
    {
      "cell_type": "code",
      "metadata": {
        "colab": {
          "base_uri": "https://localhost:8080/"
        },
        "id": "F_rDkAFzYybg",
        "outputId": "539a2bc6-2291-4f94-8e77-6c75f09f65ac"
      },
      "source": [
        "ar_pred = model_ar.predict(start=28,end=35)\n",
        "\n",
        "ar_pred"
      ],
      "execution_count": 103,
      "outputs": [
        {
          "output_type": "execute_result",
          "data": {
            "text/plain": [
              "array([373.04789169, 456.12359861, 400.43239489, 489.71149948,\n",
              "       436.83697833, 496.86105144, 474.98565763, 538.44318066])"
            ]
          },
          "metadata": {
            "tags": []
          },
          "execution_count": 103
        }
      ]
    },
    {
      "cell_type": "code",
      "metadata": {
        "colab": {
          "base_uri": "https://localhost:8080/"
        },
        "id": "cQuoyZRrZFVV",
        "outputId": "5e544aa4-cac2-4462-9965-c9bd3a9a3995"
      },
      "source": [
        "mean_squared_error(test,ar_pred)"
      ],
      "execution_count": 104,
      "outputs": [
        {
          "output_type": "execute_result",
          "data": {
            "text/plain": [
              "4253.575021232911"
            ]
          },
          "metadata": {
            "tags": []
          },
          "execution_count": 104
        }
      ]
    },
    {
      "cell_type": "code",
      "metadata": {
        "colab": {
          "base_uri": "https://localhost:8080/",
          "height": 298
        },
        "id": "FW8OrpUEZZIA",
        "outputId": "93037c6d-bd44-4896-ce52-e58ddd886d02"
      },
      "source": [
        "plt.title(\"Auto Regressive Model\")\n",
        "\n",
        "plt.plot(test,label='Actual Data')\n",
        "\n",
        "plt.plot(ar_pred,label='Predicted Data')\n",
        "\n",
        "plt.legend()"
      ],
      "execution_count": 112,
      "outputs": [
        {
          "output_type": "execute_result",
          "data": {
            "text/plain": [
              "<matplotlib.legend.Legend at 0x7f0bb26b0f28>"
            ]
          },
          "metadata": {
            "tags": []
          },
          "execution_count": 112
        },
        {
          "output_type": "display_data",
          "data": {
            "image/png": "[encoded data removed]",
            "text/plain": [
              "<Figure size 432x288 with 1 Axes>"
            ]
          },
          "metadata": {
            "tags": [],
            "needs_background": "light"
          }
        }
      ]
    },
    {
      "cell_type": "markdown",
      "metadata": {
        "id": "dgJQ-vQSaDXP"
      },
      "source": [
        "`Our predictions looks like almost Same.Its pretty much good.`\n",
        "\n",
        "`So,lets move on with next model`"
      ]
    },
    {
      "cell_type": "markdown",
      "metadata": {
        "id": "F-bP2mG4ihRG"
      },
      "source": [
        "# ARIMA MODEL (Auto Regressive Integrated Moving Average)"
      ]
    },
    {
      "cell_type": "code",
      "metadata": {
        "id": "xM0WsIRKaAYD"
      },
      "source": [
        "from statsmodels.tsa.arima_model import ARIMA"
      ],
      "execution_count": 113,
      "outputs": []
    },
    {
      "cell_type": "code",
      "metadata": {
        "id": "l6flm8Nvbfpz"
      },
      "source": [
        "model_arima = ARIMA(train,order=(3,1,1)).fit()           # tuple is nothing but (p,d,q) i.e AR,INTEGRATED,MA MODEL Parameters...\n",
        "\n",
        "# Three is given for p so that it takes values of 3 previous sales.."
      ],
      "execution_count": 168,
      "outputs": []
    },
    {
      "cell_type": "code",
      "metadata": {
        "colab": {
          "base_uri": "https://localhost:8080/",
          "height": 418
        },
        "id": "pzlz5NcCkOYB",
        "outputId": "c8068028-9319-4592-c7fc-1e61ae8def9d"
      },
      "source": [
        "model_arima.summary()"
      ],
      "execution_count": 204,
      "outputs": [
        {
          "output_type": "execute_result",
          "data": {
            "text/html": [
              "<table class=\"simpletable\">\n",
              "<caption>ARIMA Model Results</caption>\n",
              "<tr>\n",
              "  <th>Dep. Variable:</th>        <td>D.y</td>       <th>  No. Observations:  </th>    <td>27</td>   \n",
              "</tr>\n",
              "<tr>\n",
              "  <th>Model:</th>          <td>ARIMA(3, 1, 1)</td>  <th>  Log Likelihood     </th> <td>-147.298</td>\n",
              "</tr>\n",
              "<tr>\n",
              "  <th>Method:</th>             <td>css-mle</td>     <th>  S.D. of innovations</th>  <td>54.628</td> \n",
              "</tr>\n",
              "<tr>\n",
              "  <th>Date:</th>          <td>Sun, 22 Nov 2020</td> <th>  AIC                </th>  <td>306.596</td>\n",
              "</tr>\n",
              "<tr>\n",
              "  <th>Time:</th>              <td>15:27:16</td>     <th>  BIC                </th>  <td>314.371</td>\n",
              "</tr>\n",
              "<tr>\n",
              "  <th>Sample:</th>                <td>1</td>        <th>  HQIC               </th>  <td>308.908</td>\n",
              "</tr>\n",
              "<tr>\n",
              "  <th></th>                       <td> </td>        <th>                     </th>     <td> </td>   \n",
              "</tr>\n",
              "</table>\n",
              "<table class=\"simpletable\">\n",
              "<tr>\n",
              "      <td></td>         <th>coef</th>     <th>std err</th>      <th>z</th>      <th>P>|z|</th>  <th>[0.025</th>    <th>0.975]</th>  \n",
              "</tr>\n",
              "<tr>\n",
              "  <th>const</th>     <td>    8.2099</td> <td>    2.928</td> <td>    2.804</td> <td> 0.010</td> <td>    2.472</td> <td>   13.948</td>\n",
              "</tr>\n",
              "<tr>\n",
              "  <th>ar.L1.D.y</th> <td>   -0.7297</td> <td>    0.280</td> <td>   -2.607</td> <td> 0.016</td> <td>   -1.278</td> <td>   -0.181</td>\n",
              "</tr>\n",
              "<tr>\n",
              "  <th>ar.L2.D.y</th> <td>   -0.4180</td> <td>    0.298</td> <td>   -1.400</td> <td> 0.175</td> <td>   -1.003</td> <td>    0.167</td>\n",
              "</tr>\n",
              "<tr>\n",
              "  <th>ar.L3.D.y</th> <td>   -0.4844</td> <td>    0.187</td> <td>   -2.597</td> <td> 0.016</td> <td>   -0.850</td> <td>   -0.119</td>\n",
              "</tr>\n",
              "<tr>\n",
              "  <th>ma.L1.D.y</th> <td>   -0.3158</td> <td>    0.311</td> <td>   -1.014</td> <td> 0.322</td> <td>   -0.926</td> <td>    0.295</td>\n",
              "</tr>\n",
              "</table>\n",
              "<table class=\"simpletable\">\n",
              "<caption>Roots</caption>\n",
              "<tr>\n",
              "    <td></td>   <th>            Real</th>  <th>         Imaginary</th> <th>         Modulus</th>  <th>        Frequency</th>\n",
              "</tr>\n",
              "<tr>\n",
              "  <th>AR.1</th> <td>          -1.1362</td> <td>          -0.0000j</td> <td>           1.1362</td> <td>          -0.5000</td>\n",
              "</tr>\n",
              "<tr>\n",
              "  <th>AR.2</th> <td>           0.1366</td> <td>          -1.3410j</td> <td>           1.3479</td> <td>          -0.2338</td>\n",
              "</tr>\n",
              "<tr>\n",
              "  <th>AR.3</th> <td>           0.1366</td> <td>          +1.3410j</td> <td>           1.3479</td> <td>           0.2338</td>\n",
              "</tr>\n",
              "<tr>\n",
              "  <th>MA.1</th> <td>           3.1667</td> <td>          +0.0000j</td> <td>           3.1667</td> <td>           0.0000</td>\n",
              "</tr>\n",
              "</table>"
            ],
            "text/plain": [
              "<class 'statsmodels.iolib.summary.Summary'>\n",
              "\"\"\"\n",
              "                             ARIMA Model Results                              \n",
              "==============================================================================\n",
              "Dep. Variable:                    D.y   No. Observations:                   27\n",
              "Model:                 ARIMA(3, 1, 1)   Log Likelihood                -147.298\n",
              "Method:                       css-mle   S.D. of innovations             54.628\n",
              "Date:                Sun, 22 Nov 2020   AIC                            306.596\n",
              "Time:                        15:27:16   BIC                            314.371\n",
              "Sample:                             1   HQIC                           308.908\n",
              "                                                                              \n",
              "==============================================================================\n",
              "                 coef    std err          z      P>|z|      [0.025      0.975]\n",
              "------------------------------------------------------------------------------\n",
              "const          8.2099      2.928      2.804      0.010       2.472      13.948\n",
              "ar.L1.D.y     -0.7297      0.280     -2.607      0.016      -1.278      -0.181\n",
              "ar.L2.D.y     -0.4180      0.298     -1.400      0.175      -1.003       0.167\n",
              "ar.L3.D.y     -0.4844      0.187     -2.597      0.016      -0.850      -0.119\n",
              "ma.L1.D.y     -0.3158      0.311     -1.014      0.322      -0.926       0.295\n",
              "                                    Roots                                    \n",
              "=============================================================================\n",
              "                  Real          Imaginary           Modulus         Frequency\n",
              "-----------------------------------------------------------------------------\n",
              "AR.1           -1.1362           -0.0000j            1.1362           -0.5000\n",
              "AR.2            0.1366           -1.3410j            1.3479           -0.2338\n",
              "AR.3            0.1366           +1.3410j            1.3479            0.2338\n",
              "MA.1            3.1667           +0.0000j            3.1667            0.0000\n",
              "-----------------------------------------------------------------------------\n",
              "\"\"\""
            ]
          },
          "metadata": {
            "tags": []
          },
          "execution_count": 204
        }
      ]
    },
    {
      "cell_type": "code",
      "metadata": {
        "colab": {
          "base_uri": "https://localhost:8080/"
        },
        "id": "2IX00Lz-eCQ_",
        "outputId": "803df7f6-ebae-40f9-bbc0-b23d49d9807d"
      },
      "source": [
        "model_arima.forecast(8)              # We not interested in all the data. we want only first array that have 8 test data.."
      ],
      "execution_count": 169,
      "outputs": [
        {
          "output_type": "execute_result",
          "data": {
            "text/plain": [
              "(array([360.21082033, 447.97012351, 378.88887381, 452.39349733,\n",
              "        406.7278663 , 464.40100559, 427.40569024, 474.02632523]),\n",
              " array([54.62768342, 54.6842611 , 57.07824595, 57.07824851, 65.30569112,\n",
              "        65.60791854, 68.44863665, 68.64102245]),\n",
              " array([[253.14252828, 467.27911238],\n",
              "        [340.79094123, 555.1493058 ],\n",
              "        [267.01756746, 490.76018016],\n",
              "        [340.52218594, 564.26480872],\n",
              "        [278.73106372, 534.72466889],\n",
              "        [335.81184815, 592.99016302],\n",
              "        [293.24882761, 561.56255287],\n",
              "        [339.49239336, 608.5602571 ]]))"
            ]
          },
          "metadata": {
            "tags": []
          },
          "execution_count": 169
        }
      ]
    },
    {
      "cell_type": "code",
      "metadata": {
        "colab": {
          "base_uri": "https://localhost:8080/"
        },
        "id": "bUgirxWCbu8z",
        "outputId": "191e6733-d34b-4de3-e6a7-acd4b66d32c4"
      },
      "source": [
        "arima_pred  = model_arima.forecast(8)[0]\n",
        "\n",
        "arima_pred"
      ],
      "execution_count": 170,
      "outputs": [
        {
          "output_type": "execute_result",
          "data": {
            "text/plain": [
              "array([360.21082033, 447.97012351, 378.88887381, 452.39349733,\n",
              "       406.7278663 , 464.40100559, 427.40569024, 474.02632523])"
            ]
          },
          "metadata": {
            "tags": []
          },
          "execution_count": 170
        }
      ]
    },
    {
      "cell_type": "code",
      "metadata": {
        "colab": {
          "base_uri": "https://localhost:8080/"
        },
        "id": "vXQuOZrdcrlr",
        "outputId": "6e599417-8627-42d6-be71-e85760147acf"
      },
      "source": [
        "model_arima.aic              # Akaike Information Criteria (AIC) measure for time series. \n",
        "\n",
        "# Lower the value that much the model is good.."
      ],
      "execution_count": 172,
      "outputs": [
        {
          "output_type": "execute_result",
          "data": {
            "text/plain": [
              "306.5957237017651"
            ]
          },
          "metadata": {
            "tags": []
          },
          "execution_count": 172
        }
      ]
    },
    {
      "cell_type": "code",
      "metadata": {
        "colab": {
          "base_uri": "https://localhost:8080/",
          "height": 298
        },
        "id": "MsZPcScNcli2",
        "outputId": "73902cf3-ff27-48bf-b81a-ab3ff8d4f597"
      },
      "source": [
        "plt.title(\"Auto Regressive Integrated Moving Average Model\")\n",
        "\n",
        "plt.plot(test,label='Actual Data')\n",
        "\n",
        "plt.plot(model_arima.forecast(8)[0],label='Predicted Data',color='green')\n",
        "\n",
        "plt.legend()"
      ],
      "execution_count": 173,
      "outputs": [
        {
          "output_type": "execute_result",
          "data": {
            "text/plain": [
              "<matplotlib.legend.Legend at 0x7f0bb2098be0>"
            ]
          },
          "metadata": {
            "tags": []
          },
          "execution_count": 173
        },
        {
          "output_type": "display_data",
          "data": {
            "image/png": "[encoded data removed]",
            "text/plain": [
              "<Figure size 432x288 with 1 Axes>"
            ]
          },
          "metadata": {
            "tags": [],
            "needs_background": "light"
          }
        }
      ]
    },
    {
      "cell_type": "code",
      "metadata": {
        "colab": {
          "base_uri": "https://localhost:8080/"
        },
        "id": "FJ6nGujRfjsu",
        "outputId": "9f2f98cb-1ca2-4d4c-d636-65ceffdd0b46"
      },
      "source": [
        "pdq = [(i,j,j) for i in range(3) for j in range(3)]\n",
        "\n",
        "for i in pdq:\n",
        "  print(i)"
      ],
      "execution_count": 195,
      "outputs": [
        {
          "output_type": "stream",
          "text": [
            "(0, 0, 0)\n",
            "(0, 1, 1)\n",
            "(0, 2, 2)\n",
            "(1, 0, 0)\n",
            "(1, 1, 1)\n",
            "(1, 2, 2)\n",
            "(2, 0, 0)\n",
            "(2, 1, 1)\n",
            "(2, 2, 2)\n"
          ],
          "name": "stdout"
        }
      ]
    },
    {
      "cell_type": "code",
      "metadata": {
        "id": "4aY7pcKhhiZT"
      },
      "source": [
        "import warnings\n",
        "\n",
        "warnings.filterwarnings('ignore')"
      ],
      "execution_count": 200,
      "outputs": []
    },
    {
      "cell_type": "code",
      "metadata": {
        "colab": {
          "base_uri": "https://localhost:8080/"
        },
        "id": "0Acjphr_f8Iz",
        "outputId": "795ee21c-5fd1-46f9-db7b-ae25897610ec"
      },
      "source": [
        "for i in pdq:\n",
        "  try:\n",
        "    model_arima1 = ARIMA(train,order=i).fit() \n",
        "    print(\"(p,d,q) are \",i,\"and aic score is \",model_arima1.aic)   \n",
        "  except:\n",
        "    continue\n"
      ],
      "execution_count": 203,
      "outputs": [
        {
          "output_type": "stream",
          "text": [
            "(p,d,q) are  (0, 0, 0) and aic score is  335.08327681905075\n",
            "(p,d,q) are  (0, 1, 1) and aic score is  308.0082182897029\n",
            "(p,d,q) are  (1, 0, 0) and aic score is  330.8689624119528\n",
            "(p,d,q) are  (1, 1, 1) and aic score is  306.85894261817725\n",
            "(p,d,q) are  (1, 2, 2) and aic score is  299.6134808006369\n",
            "(p,d,q) are  (2, 0, 0) and aic score is  322.14928731159796\n",
            "(p,d,q) are  (2, 1, 1) and aic score is  308.72892963045774\n"
          ],
          "name": "stdout"
        }
      ]
    },
    {
      "cell_type": "markdown",
      "metadata": {
        "id": "RYJWicsXiMdh"
      },
      "source": [
        "We can conclude that (1,2,2) have minimum aic score.So we can take those (p,d,q) values"
      ]
    },
    {
      "cell_type": "markdown",
      "metadata": {
        "id": "jNjHYP-mjxW9"
      },
      "source": [
        "# Seasonal ARIMA"
      ]
    },
    {
      "cell_type": "code",
      "metadata": {
        "id": "nMTv7JcFjyC2"
      },
      "source": [
        "from statsmodels.tsa.statespace.sarimax import SARIMAX"
      ],
      "execution_count": 210,
      "outputs": []
    },
    {
      "cell_type": "code",
      "metadata": {
        "id": "JvFqBimakphv"
      },
      "source": [
        "sm = SARIMAX(train,order=(3,2,4)).fit()"
      ],
      "execution_count": 226,
      "outputs": []
    },
    {
      "cell_type": "code",
      "metadata": {
        "colab": {
          "base_uri": "https://localhost:8080/"
        },
        "id": "tBChbYfHkt3M",
        "outputId": "70ea5d74-bb83-4c24-b891-7f392a6da23c"
      },
      "source": [
        "sm.predict(start=28,end=35)"
      ],
      "execution_count": 227,
      "outputs": [
        {
          "output_type": "execute_result",
          "data": {
            "text/plain": [
              "array([326.86873079, 456.62833815, 412.63890289, 467.37042916,\n",
              "       408.44322291, 453.78254388, 458.42522622, 504.19827349])"
            ]
          },
          "metadata": {
            "tags": []
          },
          "execution_count": 227
        }
      ]
    },
    {
      "cell_type": "code",
      "metadata": {
        "colab": {
          "base_uri": "https://localhost:8080/"
        },
        "id": "bGJf-zJAlUXe",
        "outputId": "73ebaaf2-a76f-4ae8-bbeb-7fbc9af62752"
      },
      "source": [
        "sm.aic"
      ],
      "execution_count": 228,
      "outputs": [
        {
          "output_type": "execute_result",
          "data": {
            "text/plain": [
              "300.68460095031037"
            ]
          },
          "metadata": {
            "tags": []
          },
          "execution_count": 228
        }
      ]
    },
    {
      "cell_type": "code",
      "metadata": {
        "colab": {
          "base_uri": "https://localhost:8080/",
          "height": 298
        },
        "id": "IalHleFElcfS",
        "outputId": "e1102be4-d9f6-495e-d5f9-a6f22ed4ff13"
      },
      "source": [
        "plt.title(\"SARIMAXe Model\")\n",
        "\n",
        "plt.plot(test,label='Actual Data')\n",
        "\n",
        "plt.plot(sm.predict(start=28,end=35),label='Predicted Data',color='green')\n",
        "\n",
        "plt.legend()"
      ],
      "execution_count": 229,
      "outputs": [
        {
          "output_type": "execute_result",
          "data": {
            "text/plain": [
              "<matplotlib.legend.Legend at 0x7f0baf6c55c0>"
            ]
          },
          "metadata": {
            "tags": []
          },
          "execution_count": 229
        },
        {
          "output_type": "display_data",
          "data": {
            "image/png": "[encoded data removed]",
            "text/plain": [
              "<Figure size 432x288 with 1 Axes>"
            ]
          },
          "metadata": {
            "tags": [],
            "needs_background": "light"
          }
        }
      ]
    },
    {
      "cell_type": "code",
      "metadata": {
        "id": "RL9kCFCYliPB"
      },
      "source": [
        ""
      ],
      "execution_count": null,
      "outputs": []
    }
  ]
}